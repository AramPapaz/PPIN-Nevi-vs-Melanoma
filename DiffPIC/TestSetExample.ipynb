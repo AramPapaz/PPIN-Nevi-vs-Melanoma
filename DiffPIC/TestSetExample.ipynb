{
 "cells": [
  {
   "cell_type": "code",
   "execution_count": 12,
   "id": "177454fe",
   "metadata": {},
   "outputs": [],
   "source": [
    "from torch_geometric.nn import GATv2Conv\n",
    "from torch.nn import ReLU\n",
    "import matplotlib.pyplot as plt\n",
    "import numpy as np\n",
    "import pandas as pd\n",
    "import torch\n",
    "import torch.nn.functional as F \n",
    "import pickle\n",
    "from sklearn.metrics import roc_curve,auc\n",
    "\n",
    "\n",
    "if torch.cuda.is_available():\n",
    "    statedicts=torch.load(\"DiffPIC_statedict.pth\")\n",
    "else:\n",
    "    statedicts=torch.load(\"DiffPIC_statedict.pth\",map_location=torch.device('cpu'))"
   ]
  },
  {
   "cell_type": "markdown",
   "id": "bb322e86",
   "metadata": {},
   "source": [
    "### Model Architecture"
   ]
  },
  {
   "cell_type": "code",
   "execution_count": 13,
   "id": "a43e2d2f",
   "metadata": {},
   "outputs": [],
   "source": [
    "class EdgeLabelPredictor(torch.nn.Module):\n",
    "    def __init__(self, in_channels, out_channels):\n",
    "        super().__init__()\n",
    "        ## ESM2 Upper layers\n",
    "        self.convESM1 = GATv2Conv(1280, 150,heads=3)\n",
    "        self.convESM2 = GATv2Conv(150*3, 150,heads=3)\n",
    "        self.convESM3 = GATv2Conv(150*3, 150,heads=3)\n",
    "\n",
    "        ## Ptotein Abundance Lower layer\n",
    "        self.convSingle1= GATv2Conv(2, 50,heads=3)\n",
    "        \n",
    "        ## MLP layers\n",
    "        self.fc1=torch.nn.Linear((2*150*3)+(2*50*3), 200)\n",
    "        self.fc2=torch.nn.Linear(200, 200)\n",
    "        self.fc3=torch.nn.Linear(200, 1)\n",
    "        self.relu=ReLU()\n",
    "\n",
    "    def forward(self, x, edge_index, edge_label_index):\n",
    "        ## Ignoring final two features which symbolize the mean protein abundances in both conditions \n",
    "        x_esm = F.relu(self.convESM1(x[:,:-2], edge_index))\n",
    "        x_esm = F.relu(self.convESM2(x_esm, edge_index))\n",
    "        x_esm = F.relu(self.convESM3(x_esm, edge_index))\n",
    "\n",
    "        ## Only considering protein abundance features\n",
    "        x_single = F.relu(self.convSingle1(x[:,-2:], edge_index))\n",
    "\n",
    "        ## Get node embeddings for each edge\n",
    "        src, dst = edge_label_index\n",
    "\n",
    "        ## division by 2 since undirected graph (avoid multiple preds on same edge)\n",
    "        src=src[0:int(len(src)/2)]\n",
    "        dst=dst[0:int(len(dst)/2)]\n",
    "\n",
    "        edge_feat_esm = torch.cat((x_esm[src], x_esm[dst]), dim=1)\n",
    "        edge_feat_single = torch.cat((x_single[src], x_single[dst]), dim=1)\n",
    "\n",
    "        comb=torch.cat((edge_feat_esm,edge_feat_single),1)\n",
    "\n",
    "        ## MLP decoder for edge classification\n",
    "        x=self.fc1(comb)\n",
    "        x=self.relu(x)\n",
    "        x=self.fc2(x)\n",
    "        x=self.relu(x)\n",
    "        x=self.fc3(x)\n",
    "        return x.squeeze()"
   ]
  },
  {
   "cell_type": "markdown",
   "id": "870ed45c",
   "metadata": {},
   "source": [
    "### Load Model"
   ]
  },
  {
   "cell_type": "code",
   "execution_count": 14,
   "id": "138e1dc8",
   "metadata": {},
   "outputs": [
    {
     "name": "stdout",
     "output_type": "stream",
     "text": [
      "Using device: cpu\n"
     ]
    },
    {
     "data": {
      "text/plain": [
       "<All keys matched successfully>"
      ]
     },
     "execution_count": 14,
     "metadata": {},
     "output_type": "execute_result"
    }
   ],
   "source": [
    "device = torch.device(\"cuda\" if torch.cuda.is_available() else \"cpu\")\n",
    "print(f\"Using device: {device}\")\n",
    "model = EdgeLabelPredictor(in_channels=1282, out_channels=1)\n",
    "model.load_state_dict(statedicts)"
   ]
  },
  {
   "cell_type": "markdown",
   "id": "85593d8f",
   "metadata": {},
   "source": [
    "### Test Data Evaluation"
   ]
  },
  {
   "cell_type": "code",
   "execution_count": 15,
   "id": "07285718",
   "metadata": {},
   "outputs": [],
   "source": [
    "tests=[]\n",
    "tests.append(torch.load(\"../PyG_Data/Test.pth\",weights_only=False))"
   ]
  },
  {
   "cell_type": "code",
   "execution_count": 16,
   "id": "8d5cf741",
   "metadata": {},
   "outputs": [],
   "source": [
    "model.eval()\n",
    "with torch.no_grad():\n",
    "    y_pred=[]\n",
    "    for i in tests:\n",
    "        out = model(i.x, i.edge_index, i.edge_label_index)\n",
    "        out=F.sigmoid(out) ## to compute probabilities\n",
    "        y_pred.extend(out.tolist())\n",
    "y_pred_labels=[]\n",
    "for i in y_pred:\n",
    "    if i >=0.2706645727157593: ## optimal threshold based on validation set\n",
    "        y_pred_labels.append(1)\n",
    "    else:\n",
    "        y_pred_labels.append(0)\n",
    "\n",
    "y_true=[]\n",
    "for i in tests:\n",
    "    y_true.extend(i.edge_labels.tolist())\n",
    "y_true=y_true[0:int(len(y_true)/2)]"
   ]
  },
  {
   "cell_type": "markdown",
   "id": "59344bdb",
   "metadata": {},
   "source": [
    "#### Confusion Matrix with Optimal Threshold"
   ]
  },
  {
   "cell_type": "code",
   "execution_count": 17,
   "id": "00423523",
   "metadata": {},
   "outputs": [
    {
     "data": {
      "text/plain": [
       "<sklearn.metrics._plot.confusion_matrix.ConfusionMatrixDisplay at 0x23da3e09d30>"
      ]
     },
     "execution_count": 17,
     "metadata": {},
     "output_type": "execute_result"
    },
    {
     "data": {
      "image/png": "[encoded data removed]",
      "text/plain": [
       "<Figure size 640x480 with 1 Axes>"
      ]
     },
     "metadata": {},
     "output_type": "display_data"
    }
   ],
   "source": [
    "from sklearn.metrics import confusion_matrix, ConfusionMatrixDisplay\n",
    "cm = confusion_matrix(y_true, y_pred_labels, labels=[0,1])\n",
    "disp = ConfusionMatrixDisplay(confusion_matrix=cm,\n",
    "                              display_labels=[0,1])\n",
    "disp.plot(cmap='binary', colorbar=False)"
   ]
  },
  {
   "cell_type": "markdown",
   "id": "f24dae64",
   "metadata": {},
   "source": [
    "#### ROC-AUC"
   ]
  },
  {
   "cell_type": "code",
   "execution_count": 18,
   "id": "31274925",
   "metadata": {},
   "outputs": [
    {
     "data": {
      "text/plain": [
       "Text(0, 0.5, 'True Positive Rate')"
      ]
     },
     "execution_count": 18,
     "metadata": {},
     "output_type": "execute_result"
    },
    {
     "data": {
      "image/png": "[encoded data removed]",
      "text/plain": [
       "<Figure size 640x480 with 1 Axes>"
      ]
     },
     "metadata": {},
     "output_type": "display_data"
    }
   ],
   "source": [
    "# Get ROC curve values\n",
    "fpr, tpr, thresholds = roc_curve(y_true, y_pred)\n",
    "## Calculate AUC\n",
    "roc_auc = auc(fpr, tpr)\n",
    "## Plot ROC curve\n",
    "plt.plot(fpr, tpr, color='blue')\n",
    "plt.text(0.6,0.4,f\"AUC = {roc_auc:.2f}\",size=\"large\")\n",
    "plt.fill_between(fpr, tpr, alpha=0.2, color='blue')  # Shade area under curve\n",
    "plt.xlabel(\"False Positive Rate\")\n",
    "plt.ylabel(\"True Positive Rate\")"
   ]
  }
 ],
 "metadata": {
  "kernelspec": {
   "display_name": "Python 3",
   "language": "python",
   "name": "python3"
  },
  "language_info": {
   "codemirror_mode": {
    "name": "ipython",
    "version": 3
   },
   "file_extension": ".py",
   "mimetype": "text/x-python",
   "name": "python",
   "nbconvert_exporter": "python",
   "pygments_lexer": "ipython3",
   "version": "3.12.4"
  }
 },
 "nbformat": 4,
 "nbformat_minor": 5
}
